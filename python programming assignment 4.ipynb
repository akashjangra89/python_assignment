{
 "cells": [
  {
   "cell_type": "markdown",
   "id": "fcab421d",
   "metadata": {},
   "source": [
    "1.\tWrite a Python Program to Find the Factorial of a Number?"
   ]
  },
  {
   "cell_type": "code",
   "execution_count": 9,
   "id": "c393f4c8",
   "metadata": {},
   "outputs": [
    {
     "name": "stdout",
     "output_type": "stream",
     "text": [
      "Enter any No. To Check it's Factorial 8\n",
      "1\n",
      "2\n",
      "4\n",
      "8\n"
     ]
    }
   ],
   "source": [
    "num = int(input('Enter any No. To Check it\\'s Factorial '))\n",
    "\n",
    "def checkFactorial(num):\n",
    "    for i in range(1, num + 1):\n",
    "        if num % i == 0:\n",
    "            print (i)\n",
    "checkFactorial(num)"
   ]
  },
  {
   "cell_type": "markdown",
   "id": "4cabed6d",
   "metadata": {},
   "source": [
    "2.\tWrite a Python Program to Display the multiplication Table?"
   ]
  },
  {
   "cell_type": "code",
   "execution_count": 16,
   "id": "03b7a202",
   "metadata": {},
   "outputs": [
    {
     "name": "stdout",
     "output_type": "stream",
     "text": [
      "Enter any No. To Check it's Multiplication Table 88\n",
      "88 X 1 = 88\n",
      "88 X 2 = 176\n",
      "88 X 3 = 264\n",
      "88 X 4 = 352\n",
      "88 X 5 = 440\n",
      "88 X 6 = 528\n",
      "88 X 7 = 616\n",
      "88 X 8 = 704\n",
      "88 X 9 = 792\n",
      "88 X 10 = 880\n"
     ]
    }
   ],
   "source": [
    "num = int(input('Enter any No. To Check it\\'s Multiplication Table '))\n",
    "\n",
    "def checkMulti(num):\n",
    "    for i in range (1,11):\n",
    "        print(num, 'X', i, '=', num*i) \n",
    "checkMulti(num)"
   ]
  },
  {
   "cell_type": "markdown",
   "id": "465e64d9",
   "metadata": {},
   "source": [
    "3.\tWrite a Python Program to Print the Fibonacci sequence?"
   ]
  },
  {
   "cell_type": "code",
   "execution_count": 8,
   "id": "a92df002",
   "metadata": {},
   "outputs": [
    {
     "name": "stdout",
     "output_type": "stream",
     "text": [
      "Enter any No. To Check it's Fibonacci sequence 10\n",
      "0\n",
      "1\n",
      "1\n",
      "2\n",
      "3\n",
      "5\n",
      "8\n",
      "13\n",
      "21\n",
      "34\n"
     ]
    }
   ],
   "source": [
    "num = int(input('Enter any No. To Check it\\'s Fibonacci sequence '))\n",
    "\n",
    "\n",
    "def checkFibo(num):\n",
    "    n1, n2 = 0, 1\n",
    "    count = 0\n",
    "    if num <= 0:\n",
    "         print(\"Please enter a positive integer\")\n",
    "    elif num == 1:\n",
    "        print(\"Fibonacci sequence upto\",num,\":\")\n",
    "        print(n1)\n",
    "    else:\n",
    "        while count < num:\n",
    "            print(n1)\n",
    "            nth = n1+n2\n",
    "            n1 = n2\n",
    "            n2 = nth\n",
    "            count += 1\n",
    "checkFibo(num)"
   ]
  },
  {
   "cell_type": "markdown",
   "id": "7d54c4c2",
   "metadata": {},
   "source": [
    "4.\tWrite a Python Program to Check Armstrong Number?"
   ]
  },
  {
   "cell_type": "code",
   "execution_count": 23,
   "id": "7cfd0333",
   "metadata": {},
   "outputs": [
    {
     "name": "stdout",
     "output_type": "stream",
     "text": [
      "Enter a no. to check whether it is Armstrong Number or not 371\n",
      "371 is Armstrong Number\n",
      "371 is Armstrong Number\n",
      "371 is Armstrong Number\n"
     ]
    }
   ],
   "source": [
    "num = (input('Enter a no. to check whether it is Armstrong Number or not '))\n",
    "\n",
    "def checkArms(num):\n",
    "    for i in num:\n",
    "        if num.isdigit():\n",
    "            if len(num) == 3:\n",
    "                num1 = int(num[0])\n",
    "                num2 = int(num[1])\n",
    "                num3 = int(num[2])\n",
    "                product = (num1**3) + (num2**3) + (num3**3)\n",
    "                num4 = int(num)\n",
    "                if product == num4:\n",
    "                    print('{} is Armstrong Number'.format(num4))\n",
    "                else:\n",
    "                    print('{} is Not Armstrong Number'.format(num4))\n",
    "            else:\n",
    "                print('Only 3 Digit Allowed')\n",
    "        else:\n",
    "            print('Enter No. Only & without Decimal')\n",
    "checkArms(num)"
   ]
  },
  {
   "cell_type": "code",
   "execution_count": 13,
   "id": "5a8e949e",
   "metadata": {},
   "outputs": [
    {
     "name": "stdout",
     "output_type": "stream",
     "text": [
      "Enter Any Number 1634\n",
      "Given number is a Armstrong Number\n"
     ]
    }
   ],
   "source": [
    "# 5.\tWrite a Python Program to Find Armstrong Number in an Interval?\n",
    "\n",
    "number = int(input('Enter Any Number ' ))\n",
    "temp = number\n",
    "add_sum = 0\n",
    "order = len(str(number))\n",
    "while temp != 0:\n",
    "    k = temp % 10\n",
    "    add_sum += k ** order\n",
    "    temp = temp//10\n",
    "if add_sum == number:\n",
    "    print('Given number is a Armstrong Number')\n",
    "else:\n",
    "    print('Given number is not an Armstrong Number')\n"
   ]
  },
  {
   "cell_type": "markdown",
   "id": "7185630d",
   "metadata": {},
   "source": [
    "6.\tWrite a Python Program to Find the Sum of Natural Numbers?"
   ]
  },
  {
   "cell_type": "code",
   "execution_count": 24,
   "id": "650c4401",
   "metadata": {},
   "outputs": [
    {
     "name": "stdout",
     "output_type": "stream",
     "text": [
      "Enter any Number 16\n",
      "Sum of Natural No. =  136\n"
     ]
    }
   ],
   "source": [
    "num = int(input('Enter any Number '))\n",
    "\n",
    "if num < 0:\n",
    "    print('Enter Positve Number Only ')\n",
    "else:\n",
    "    sum = 0\n",
    "    while (num > 0):\n",
    "        sum += num\n",
    "        num -= 1\n",
    "    print('Sum of Natural No. = ', sum)\n",
    "        "
   ]
  },
  {
   "cell_type": "code",
   "execution_count": null,
   "id": "e9f90a8d",
   "metadata": {},
   "outputs": [],
   "source": []
  }
 ],
 "metadata": {
  "kernelspec": {
   "display_name": "Python 3 (ipykernel)",
   "language": "python",
   "name": "python3"
  },
  "language_info": {
   "codemirror_mode": {
    "name": "ipython",
    "version": 3
   },
   "file_extension": ".py",
   "mimetype": "text/x-python",
   "name": "python",
   "nbconvert_exporter": "python",
   "pygments_lexer": "ipython3",
   "version": "3.9.12"
  }
 },
 "nbformat": 4,
 "nbformat_minor": 5
}
