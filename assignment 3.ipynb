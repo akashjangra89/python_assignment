{
 "cells": [
  {
   "cell_type": "markdown",
   "id": "c21fcf0b",
   "metadata": {},
   "source": [
    "1.\tWrite a Python program to print \"Hello Python\"?"
   ]
  },
  {
   "cell_type": "code",
   "execution_count": 1,
   "id": "a550128b",
   "metadata": {},
   "outputs": [
    {
     "name": "stdout",
     "output_type": "stream",
     "text": [
      "Hello Python\n"
     ]
    }
   ],
   "source": [
    "print('Hello Python')"
   ]
  },
  {
   "cell_type": "markdown",
   "id": "d41e5a6a",
   "metadata": {},
   "source": [
    "2.\tWrite a Python program to do arithmetical operations addition and division.?"
   ]
  },
  {
   "cell_type": "code",
   "execution_count": 2,
   "id": "0c4f77bb",
   "metadata": {},
   "outputs": [
    {
     "name": "stdout",
     "output_type": "stream",
     "text": [
      "102\n",
      "0.3076923076923077\n"
     ]
    }
   ],
   "source": [
    "a = 24\n",
    "b = 78\n",
    "\n",
    "print(a+b)\n",
    "print(a/b)"
   ]
  },
  {
   "cell_type": "markdown",
   "id": "5a8be047",
   "metadata": {},
   "source": [
    "3.\tWrite a Python program to find the area of a triangle?"
   ]
  },
  {
   "cell_type": "code",
   "execution_count": 6,
   "id": "563d7c32",
   "metadata": {},
   "outputs": [
    {
     "name": "stdout",
     "output_type": "stream",
     "text": [
      "Enter base 12\n",
      "Enter height 24\n",
      "144.0\n"
     ]
    }
   ],
   "source": [
    "# area of a triangle with base and height?\n",
    "\n",
    "base = float(input('Enter base '))\n",
    "height = float(input('Enter height '))\n",
    "\n",
    "area = (base * height)/2\n",
    "print(area)\n",
    "\n"
   ]
  },
  {
   "cell_type": "code",
   "execution_count": 12,
   "id": "07230315",
   "metadata": {},
   "outputs": [
    {
     "name": "stdout",
     "output_type": "stream",
     "text": [
      "Enter length of any side of Traingle 6\n",
      "Area of an Equilateral Triangle is =  15.588457268119896\n",
      "Perimeter of an Equilateral Triangle is =  18.0\n"
     ]
    }
   ],
   "source": [
    "# Area of an Equilateral Triangle\n",
    "import math\n",
    "\n",
    "side = float(input('Enter length of any side of Traingle '))\n",
    "\n",
    "area = (math.sqrt(3)/4) * side * side\n",
    "\n",
    "perimeter = 3 * side\n",
    "\n",
    "print('Area of an Equilateral Triangle is = ', area)\n",
    "\n",
    "print('Perimeter of an Equilateral Triangle is = ', perimeter)"
   ]
  },
  {
   "cell_type": "code",
   "execution_count": 25,
   "id": "80746bbe",
   "metadata": {},
   "outputs": [
    {
     "name": "stdout",
     "output_type": "stream",
     "text": [
      "Enter Length of Side 1 of Triangle 6\n",
      "Enter Length of Side 2 of Triangle 6\n",
      "Enter Length of Side 3 of Triangle 6\n",
      "Perimeter of Triangle is =  18.0\n",
      "Semi-Perimeter of Triangle is =  9.0\n",
      "Area of Triangle is =  (15.588457268119896+0j)\n"
     ]
    }
   ],
   "source": [
    "# Area of Triangle with Three Sides (Heron’s Formula)\n",
    "\n",
    "import cmath\n",
    "\n",
    "side1_length = float(input('Enter Length of Side 1 of Triangle '))\n",
    "\n",
    "side2_length = float(input('Enter Length of Side 2 of Triangle '))\n",
    "\n",
    "side3_length = float(input('Enter Length of Side 3 of Triangle '))\n",
    "\n",
    "perimeter = side1_length + side2_length + side3_length\n",
    "\n",
    "semi_perimeter = perimeter/2\n",
    "\n",
    "# altitude = (math.sqrt(3)/2) * side1_length\n",
    "\n",
    "# Heron’s Formula\n",
    "\n",
    "area = cmath.sqrt(semi_perimeter*(semi_perimeter - side1_length)*(semi_perimeter - side2_length)* (semi_perimeter - side3_length))\n",
    "\n",
    "print('Perimeter of Triangle is = ', perimeter)\n",
    "print('Semi-Perimeter of Triangle is = ', semi_perimeter)\n",
    "# print('Altitude of Triangle is = ', altitude)\n",
    "print('Area of Triangle is = ', area)"
   ]
  },
  {
   "cell_type": "code",
   "execution_count": 34,
   "id": "d7525c91",
   "metadata": {},
   "outputs": [
    {
     "name": "stdout",
     "output_type": "stream",
     "text": [
      "Enter Side A 12\n",
      "Enter Side B 24\n",
      "Enter Side C 0\n",
      "Enter Angle 45\n",
      "Area of Triangle ABC Given Two Sides A, B & Angle on A is =  (101.82337649086286+0j)\n"
     ]
    }
   ],
   "source": [
    "# Area of a Triangle Given Two Sides and the Included Angle (SAS)\n",
    "\n",
    "import cmath\n",
    "\n",
    "sideA = float(input('Enter Side A '))\n",
    "sideB = float(input('Enter Side B '))\n",
    "sideC = float(input('Enter Side C '))\n",
    "angle = float(input('Enter Angle '))\n",
    "\n",
    "if sideA == 0:\n",
    "    area = (sideB * sideC)/2 * cmath.sin(math.radians(angle))\n",
    "    print('Area of Triangle ABC Given Two Sides B, C & Angle on A is = ', area)\n",
    "elif sideB == 0:\n",
    "    area = (sideA * sideC)/2 * cmath.sin(math.radians(angle))\n",
    "    print('Area of Triangle ABC Given Two Sides A, C & Angle on B is = ', area)\n",
    "elif sideC == 0:\n",
    "    area = (sideA * sideB)/2 * cmath.sin(math.radians(angle))\n",
    "    print('Area of Triangle ABC Given Two Sides A, B & Angle on A is = ', area)\n",
    "elif sideA > 0 and sideB > 0 and sideC > 0:\n",
    "    print('Opps You have Entered All 3 Sides only 2 Sides Length and angle needed')\n",
    "else:\n",
    "    print('Something Went Wrong')"
   ]
  },
  {
   "cell_type": "markdown",
   "id": "8102a1c3",
   "metadata": {},
   "source": [
    "4.\tWrite a Python program to swap two variables?"
   ]
  },
  {
   "cell_type": "code",
   "execution_count": 1,
   "id": "17a4e889",
   "metadata": {},
   "outputs": [
    {
     "name": "stdout",
     "output_type": "stream",
     "text": [
      "Enter Any Number or Name Akash\n",
      "Enter Any Number or Name Again Jangra\n",
      "The value of x after swapping: Jangra\n",
      "The value of y after swapping: Akash\n"
     ]
    }
   ],
   "source": [
    "x = input('Enter Any Number or Name ')\n",
    "y = input('Enter Any Number or Name Again ')\n",
    "\n",
    "temp = x\n",
    "x = y\n",
    "y = temp\n",
    "\n",
    "print('The value of x after swapping: {}'.format(x))\n",
    "print('The value of y after swapping: {}'.format(y))"
   ]
  },
  {
   "cell_type": "markdown",
   "id": "8b9cab06",
   "metadata": {},
   "source": [
    "5.\tWrite a Python program to generate a random number?"
   ]
  },
  {
   "cell_type": "code",
   "execution_count": 7,
   "id": "6cd83978",
   "metadata": {},
   "outputs": [
    {
     "name": "stdout",
     "output_type": "stream",
     "text": [
      "8\n"
     ]
    }
   ],
   "source": [
    "import random\n",
    "print(random.randrange(3,9))"
   ]
  },
  {
   "cell_type": "code",
   "execution_count": null,
   "id": "3d4642e4",
   "metadata": {},
   "outputs": [],
   "source": []
  }
 ],
 "metadata": {
  "kernelspec": {
   "display_name": "Python 3 (ipykernel)",
   "language": "python",
   "name": "python3"
  },
  "language_info": {
   "codemirror_mode": {
    "name": "ipython",
    "version": 3
   },
   "file_extension": ".py",
   "mimetype": "text/x-python",
   "name": "python",
   "nbconvert_exporter": "python",
   "pygments_lexer": "ipython3",
   "version": "3.9.12"
  }
 },
 "nbformat": 4,
 "nbformat_minor": 5
}
