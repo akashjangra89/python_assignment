{
 "cells": [
  {
   "cell_type": "markdown",
   "id": "e3d463c2",
   "metadata": {},
   "source": [
    "1.\tWrite a Python program to convert kilometers to miles?"
   ]
  },
  {
   "cell_type": "code",
   "execution_count": 4,
   "id": "cce4a804",
   "metadata": {},
   "outputs": [
    {
     "name": "stdout",
     "output_type": "stream",
     "text": [
      "Enter No. Only To convert Km To Miles 12.7\n",
      "12.7 Km is = 7.8914 Miles\n"
     ]
    }
   ],
   "source": [
    "km = float(input('Enter No. Only To convert Km To Miles '))\n",
    "\n",
    "one_km = 0.62137119\n",
    "\n",
    "km_to_miles = round(km * one_km, 4)\n",
    "\n",
    "print('{} Km is = {} Miles'.format(km, km_to_miles))"
   ]
  },
  {
   "cell_type": "markdown",
   "id": "af985982",
   "metadata": {},
   "source": [
    "2.\tWrite a Python program to convert Celsius to Fahrenheit?"
   ]
  },
  {
   "cell_type": "code",
   "execution_count": 6,
   "id": "ea6eba34",
   "metadata": {},
   "outputs": [
    {
     "name": "stdout",
     "output_type": "stream",
     "text": [
      "Enter Any No. To convert it Celsius to Fahrenheit 30.7\n",
      "30.7 Degree Celsius is = 87.26 Fahrenheit\n"
     ]
    }
   ],
   "source": [
    "celsius = float(input('Enter Any No. To convert it Celsius to Fahrenheit '))\n",
    "\n",
    "fahrenheit = round(celsius * 1.8 + 32, 2)\n",
    "\n",
    "print('{} Degree Celsius is = {} Fahrenheit'.format(celsius,fahrenheit))"
   ]
  },
  {
   "cell_type": "markdown",
   "id": "34eb84ec",
   "metadata": {},
   "source": [
    "3.\tWrite a Python program to display calendar?"
   ]
  },
  {
   "cell_type": "code",
   "execution_count": 14,
   "id": "60ab1654",
   "metadata": {},
   "outputs": [
    {
     "name": "stdout",
     "output_type": "stream",
     "text": [
      "Enter Month : 1\n",
      "Enter Year: 2022\n",
      "    January 2022\n",
      "Mo Tu We Th Fr Sa Su\n",
      "                1  2\n",
      " 3  4  5  6  7  8  9\n",
      "10 11 12 13 14 15 16\n",
      "17 18 19 20 21 22 23\n",
      "24 25 26 27 28 29 30\n",
      "31\n",
      "\n"
     ]
    }
   ],
   "source": [
    "import calendar\n",
    "mm = int(input('Enter Month : '))\n",
    "yy = int(input('Enter Year: '))\n",
    "\n",
    "print(calendar.month(yy,mm))"
   ]
  },
  {
   "cell_type": "markdown",
   "id": "6b37a5bd",
   "metadata": {},
   "source": [
    "4.\tWrite a Python program to solve quadratic equation?"
   ]
  },
  {
   "cell_type": "code",
   "execution_count": 19,
   "id": "e8c2ec5b",
   "metadata": {},
   "outputs": [
    {
     "name": "stdout",
     "output_type": "stream",
     "text": [
      "Enter Value for a : 5\n",
      "Enter Value for b : 6\n",
      "Enter Value for c : 1\n",
      "Coefficients are: a = 5, b = 6, c = 1 \n",
      "There are Two Solution for Plus (+) & Minus (-) \n",
      "Solution For Plus is : (-0.2+0j)\n",
      "Solution For Minus is : (-1+0j)\n"
     ]
    }
   ],
   "source": [
    "import cmath\n",
    "a = int(input('Enter Value for a : '))\n",
    "b = int(input('Enter Value for b : '))\n",
    "c = int(input('Enter Value for c : '))\n",
    "\n",
    "d = (b**2) - (4 * a * c)\n",
    "\n",
    "sol1 = (-b + cmath.sqrt(d))/(2*a)\n",
    "sol2 = (-b - cmath.sqrt(d))/(2*a)\n",
    "\n",
    "print('Coefficients are: a = {}, b = {}, c = {} '.format(a,b,c))\n",
    "\n",
    "print('There are Two Solution for Plus (+) & Minus (-) ')\n",
    "\n",
    "print('Solution For Plus is : {}'.format(sol1))\n",
    "print('Solution For Minus is : {}'.format(sol2))"
   ]
  },
  {
   "cell_type": "markdown",
   "id": "48abb2e7",
   "metadata": {},
   "source": [
    "5.\tWrite a Python program to swap two variables without temp variable?"
   ]
  },
  {
   "cell_type": "code",
   "execution_count": 21,
   "id": "bf19a210",
   "metadata": {},
   "outputs": [
    {
     "name": "stdout",
     "output_type": "stream",
     "text": [
      "Enter any No. or Name Akash\n",
      "Enter any No. or Name Again Jangra\n",
      "Before Swapping x = Akash and y = Jangra\n",
      "After Swapping x = Jangra and y = Akash\n"
     ]
    }
   ],
   "source": [
    "x = input('Enter any No. or Name ')\n",
    "y = input('Enter any No. or Name Again ')\n",
    "\n",
    "print('Before Swapping x = {} and y = {}'.format(x,y))\n",
    "\n",
    "x,y = y,x\n",
    "\n",
    "print('After Swapping x = {} and y = {}'.format(x,y))"
   ]
  },
  {
   "cell_type": "code",
   "execution_count": null,
   "id": "e722a17a",
   "metadata": {},
   "outputs": [],
   "source": []
  }
 ],
 "metadata": {
  "kernelspec": {
   "display_name": "Python 3 (ipykernel)",
   "language": "python",
   "name": "python3"
  },
  "language_info": {
   "codemirror_mode": {
    "name": "ipython",
    "version": 3
   },
   "file_extension": ".py",
   "mimetype": "text/x-python",
   "name": "python",
   "nbconvert_exporter": "python",
   "pygments_lexer": "ipython3",
   "version": "3.9.12"
  }
 },
 "nbformat": 4,
 "nbformat_minor": 5
}
